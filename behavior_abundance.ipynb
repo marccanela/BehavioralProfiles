{
 "cells": [
  {
   "cell_type": "markdown",
   "id": "3bd9a0ce",
   "metadata": {},
   "source": [
    "# Supervised approach\n",
    "\n",
    "We start by using a supervised approach, that is to say, we will use specific defined behaviors."
   ]
  },
  {
   "cell_type": "code",
   "execution_count": 99,
   "id": "309c9737",
   "metadata": {},
   "outputs": [],
   "source": [
    "# Import necessary packages\n",
    "import numpy as np\n",
    "import pandas as pd\n",
    "import pickle as pkl\n",
    "from pathlib import Path\n",
    "import matplotlib.pyplot as plt\n",
    "import seaborn as sns\n",
    "\n"
   ]
  },
  {
   "cell_type": "code",
   "execution_count": 100,
   "id": "fe152f06",
   "metadata": {},
   "outputs": [],
   "source": [
    "# Set up directories\n",
    "root = Path('//folder/becell/Lab Projects/ERCstG_HighMemory/Data/Marc/1_SOC/1_ProtocolControlsMales/')\n",
    "deepof_path = root / \"DeepOF/supervised_annotation.pkl\"\n",
    "deepof_conditions_path = root / \"DeepOF/conditions.csv\"\n",
    "\n",
    "# Upload conditions\n",
    "target_values = pd.read_csv(deepof_conditions_path)\n",
    "\n",
    "# Upload raw DeepOF data\n",
    "with open(deepof_path, 'rb') as f:\n",
    "    deepof_data = pkl.load(f)"
   ]
  },
  {
   "cell_type": "code",
   "execution_count": 106,
   "id": "00e14599",
   "metadata": {},
   "outputs": [],
   "source": [
    "# Compte abundance means for each behavior, individual, and time bin\n",
    "def compute_means(data, number_of_bins=6):\n",
    "    means = {}\n",
    "    for id, behaviors in data.items():\n",
    "        means[id] = {}\n",
    "        \n",
    "        # Divide rows of dataframe into number of bins\n",
    "        numeric_index = pd.RangeIndex(len(behaviors))\n",
    "        time_bins = pd.cut(numeric_index, bins=number_of_bins, labels=range(number_of_bins))\n",
    "        behaviors = behaviors.copy()\n",
    "        behaviors['time_bin'] = time_bins\n",
    "        \n",
    "        # Compute means for each behavior in the specified time bins\n",
    "        for time_bin in range(number_of_bins):\n",
    "            means[id][time_bin] = {}\n",
    "            bin_df = behaviors[behaviors['time_bin'] == time_bin]\n",
    "            for behavior in behaviors.columns[:-2]:  # exclude time_bin and maybe 'target' column\n",
    "                means[id][time_bin][behavior] = np.nanmean(bin_df[behavior])\n",
    "    \n",
    "    # Convert means to DataFrame for easier handling\n",
    "    # Columns: [id, time_bin, behavior1, behavior2, ...]\n",
    "    means_df = pd.DataFrame()\n",
    "    for id, time_bins in means.items():\n",
    "        for time_bin, behaviors in time_bins.items():\n",
    "            row = {'id': id, 'time_bin': time_bin}\n",
    "            row.update(behaviors)\n",
    "            means_df = pd.concat([means_df, pd.DataFrame([row])], ignore_index=True)\n",
    "    means_df = means_df.fillna(0)\n",
    "    \n",
    "    return means_df\n",
    "\n",
    "abundance_df = compute_means(deepof_data)"
   ]
  },
  {
   "cell_type": "code",
   "execution_count": 107,
   "id": "2277c31b",
   "metadata": {},
   "outputs": [],
   "source": [
    "# Add a column indicating the cue acording to the target values\n",
    "abundance_df['learning'] = abundance_df['id'].map(target_values.set_index('experiment_id')['learning'])\n",
    "\n",
    "# Add a column indicating the group acording to the target values\n",
    "abundance_df['group'] = abundance_df['id'].map(target_values.set_index('experiment_id')['group'])"
   ]
  },
  {
   "cell_type": "code",
   "execution_count": 110,
   "id": "ea4ff0c3",
   "metadata": {},
   "outputs": [
    {
     "data": {
      "text/plain": [
       "id            0\n",
       "time_bin      0\n",
       "climbing      0\n",
       "sniffing      0\n",
       "huddle        0\n",
       "lookaround    0\n",
       "speed         0\n",
       "learning      0\n",
       "group         0\n",
       "dtype: int64"
      ]
     },
     "execution_count": 110,
     "metadata": {},
     "output_type": "execute_result"
    }
   ],
   "source": [
    "# Check for missing values in the abundance_df DataFrame\n",
    "abundance_df.isnull().sum()"
   ]
  },
  {
   "cell_type": "code",
   "execution_count": 111,
   "id": "ee7c6e88",
   "metadata": {},
   "outputs": [],
   "source": [
    "# Download combined dataframe to csv\n",
    "abundance_df.to_csv(root / 'DeepOF/abundance_means.csv', index=False)"
   ]
  },
  {
   "cell_type": "markdown",
   "id": "d82456d6",
   "metadata": {},
   "source": [
    "## Biological questions\n",
    "\n",
    "- Is the protocol working as expected?\n",
    "- Which behavioral changes are there happening upon cue presentation?\n",
    "- Are there differences between the direct and mediated response?\n",
    "- Is it worth measuring more than one behavior? Does one behavior predict as well as an array of behaviors? Does it increase sensitivity to detect change (last minutes)"
   ]
  }
 ],
 "metadata": {
  "kernelspec": {
   "display_name": "Python 3",
   "language": "python",
   "name": "python3"
  },
  "language_info": {
   "codemirror_mode": {
    "name": "ipython",
    "version": 3
   },
   "file_extension": ".py",
   "mimetype": "text/x-python",
   "name": "python",
   "nbconvert_exporter": "python",
   "pygments_lexer": "ipython3",
   "version": "3.9.19"
  }
 },
 "nbformat": 4,
 "nbformat_minor": 5
}
