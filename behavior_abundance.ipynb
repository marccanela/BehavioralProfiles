{
 "cells": [
  {
   "cell_type": "markdown",
   "id": "3bd9a0ce",
   "metadata": {},
   "source": [
    "# Supervised approach\n",
    "\n",
    "We start by using a supervised approach, that is to say, we will use specific defined behaviors."
   ]
  },
  {
   "cell_type": "code",
   "execution_count": 36,
   "id": "309c9737",
   "metadata": {},
   "outputs": [],
   "source": [
    "# Import necessary packages\n",
    "import numpy as np\n",
    "import pandas as pd\n",
    "import pickle as pkl\n",
    "from pathlib import Path\n",
    "import matplotlib.pyplot as plt\n",
    "import seaborn as sns\n",
    "\n",
    "from collections import Counter"
   ]
  },
  {
   "cell_type": "code",
   "execution_count": 15,
   "id": "fe152f06",
   "metadata": {},
   "outputs": [],
   "source": [
    "# Set up directories\n",
    "root = Path('/Volumes/becell/Lab Projects/ERCstG_HighMemory/Data/Marc/1_SOC/1_ProtocolControlsMales')\n",
    "deepof_path = root / \"DeepOF/supervised_annotation.pkl\"\n",
    "deepof_conditions_path = root / \"DeepOF/conditions.csv\"\n",
    "\n",
    "# Upload conditions\n",
    "target_values = pd.read_csv(deepof_conditions_path)\n",
    "\n",
    "# Upload raw DeepOF data\n",
    "with open(deepof_path, 'rb') as f:\n",
    "    deepof_data = pkl.load(f)"
   ]
  },
  {
   "cell_type": "code",
   "execution_count": 16,
   "id": "00e14599",
   "metadata": {},
   "outputs": [],
   "source": [
    "# Compte abundance means for each behavior, individual, and time bin\n",
    "def compute_means(data, number_of_bins=6):\n",
    "    means = {}\n",
    "    for id, behaviors in data.items():\n",
    "        means[id] = {}\n",
    "        \n",
    "        # Divide rows of dataframe into number of bins\n",
    "        numeric_index = pd.RangeIndex(len(behaviors))\n",
    "        time_bins = pd.cut(numeric_index, bins=number_of_bins, labels=range(number_of_bins))\n",
    "        behaviors = behaviors.copy()\n",
    "        behaviors['time_bin'] = time_bins\n",
    "        \n",
    "        # Compute means for each behavior in the specified time bins\n",
    "        for time_bin in range(number_of_bins):\n",
    "            means[id][time_bin] = {}\n",
    "            bin_df = behaviors[behaviors['time_bin'] == time_bin]\n",
    "            for behavior in behaviors.columns[:-2]:  # exclude time_bin and maybe 'target' column\n",
    "                means[id][time_bin][behavior] = np.nanmean(bin_df[behavior])\n",
    "    \n",
    "    # Convert means to DataFrame for easier handling\n",
    "    # Columns: [id, time_bin, behavior1, behavior2, ...]\n",
    "    means_df = pd.DataFrame()\n",
    "    for id, time_bins in means.items():\n",
    "        for time_bin, behaviors in time_bins.items():\n",
    "            row = {'id': id, 'time_bin': time_bin}\n",
    "            row.update(behaviors)\n",
    "            means_df = pd.concat([means_df, pd.DataFrame([row])], ignore_index=True)\n",
    "    means_df = means_df.fillna(0)\n",
    "    \n",
    "    return means_df\n",
    "\n",
    "abundance_df = compute_means(deepof_data)"
   ]
  },
  {
   "cell_type": "code",
   "execution_count": 17,
   "id": "2277c31b",
   "metadata": {},
   "outputs": [],
   "source": [
    "# Add a column indicating the cue acording to the target values\n",
    "abundance_df['learning'] = abundance_df['id'].map(target_values.set_index('experiment_id')['learning'])\n",
    "\n",
    "# Add a column indicating the group acording to the target values\n",
    "abundance_df['group'] = abundance_df['id'].map(target_values.set_index('experiment_id')['group'])"
   ]
  },
  {
   "cell_type": "code",
   "execution_count": 30,
   "id": "ea4ff0c3",
   "metadata": {},
   "outputs": [
    {
     "data": {
      "text/plain": [
       "id            0\n",
       "time_bin      0\n",
       "climbing      0\n",
       "sniffing      0\n",
       "huddle        0\n",
       "lookaround    0\n",
       "speed         0\n",
       "learning      0\n",
       "group         0\n",
       "dtype: int64"
      ]
     },
     "execution_count": 30,
     "metadata": {},
     "output_type": "execute_result"
    }
   ],
   "source": [
    "# Check for missing values in the abundance_df DataFrame\n",
    "abundance_df.isnull().sum()"
   ]
  },
  {
   "cell_type": "code",
   "execution_count": 13,
   "id": "ee7c6e88",
   "metadata": {},
   "outputs": [],
   "source": [
    "# Download combined dataframe to csv\n",
    "abundance_df.to_csv(root / '/Users/mcanela/Desktop/Behavior paper review/deepof_abundance_mean.csv', index=False)"
   ]
  },
  {
   "cell_type": "markdown",
   "id": "d82456d6",
   "metadata": {},
   "source": [
    "## Biological questions\n",
    "\n",
    "- Is the protocol working as expected?\n",
    "- Which behavioral changes are there happening upon cue presentation?\n",
    "- Are there differences between the direct and mediated response?\n",
    "- Is it worth measuring more than one behavior? Does one behavior predict as well as an array of behaviors? Does it increase sensitivity to detect change (last minutes)"
   ]
  },
  {
   "cell_type": "markdown",
   "id": "fb0de006",
   "metadata": {},
   "source": [
    "# Unsupervised approach"
   ]
  },
  {
   "cell_type": "code",
   "execution_count": 32,
   "id": "c49f807d",
   "metadata": {},
   "outputs": [],
   "source": [
    "# Set up directories\n",
    "root = Path('/Volumes/becell/Lab Projects/ERCstG_HighMemory/Data/Marc/1_SOC/1_ProtocolControlsMales')\n",
    "moseq_path = root / \"MoSeq/2024_05_23-11_06_49/results\"\n",
    "deepof_conditions_path = root / \"DeepOF/conditions.csv\"\n",
    "\n",
    "# Upload conditions\n",
    "target_values = pd.read_csv(deepof_conditions_path)"
   ]
  },
  {
   "cell_type": "code",
   "execution_count": null,
   "id": "bd234b11",
   "metadata": {},
   "outputs": [],
   "source": [
    "# Get all syllables from each file\n",
    "syllable_dict = {}\n",
    "all_syllables = set()\n",
    "\n",
    "for file in moseq_path.glob('*.csv'):\n",
    "    syllables = pd.read_csv(file, usecols=['syllable'])['syllable'].values\n",
    "    syllable_dict[file.stem] = syllables\n",
    "    all_syllables.update(syllables)"
   ]
  },
  {
   "cell_type": "code",
   "execution_count": null,
   "id": "b47f14ec",
   "metadata": {},
   "outputs": [
    {
     "data": {
      "application/vnd.microsoft.datawrangler.viewer.v0+json": {
       "columns": [
        {
         "name": "index",
         "rawType": "int64",
         "type": "integer"
        },
        {
         "name": "0",
         "rawType": "int64",
         "type": "integer"
        },
        {
         "name": "1",
         "rawType": "int64",
         "type": "integer"
        },
        {
         "name": "2",
         "rawType": "int64",
         "type": "integer"
        },
        {
         "name": "3",
         "rawType": "int64",
         "type": "integer"
        },
        {
         "name": "4",
         "rawType": "int64",
         "type": "integer"
        },
        {
         "name": "5",
         "rawType": "int64",
         "type": "integer"
        },
        {
         "name": "6",
         "rawType": "int64",
         "type": "integer"
        },
        {
         "name": "7",
         "rawType": "int64",
         "type": "integer"
        },
        {
         "name": "8",
         "rawType": "int64",
         "type": "integer"
        },
        {
         "name": "9",
         "rawType": "int64",
         "type": "integer"
        },
        {
         "name": "10",
         "rawType": "int64",
         "type": "integer"
        },
        {
         "name": "11",
         "rawType": "int64",
         "type": "integer"
        },
        {
         "name": "12",
         "rawType": "int64",
         "type": "integer"
        },
        {
         "name": "13",
         "rawType": "int64",
         "type": "integer"
        },
        {
         "name": "14",
         "rawType": "int64",
         "type": "integer"
        },
        {
         "name": "15",
         "rawType": "int64",
         "type": "integer"
        },
        {
         "name": "16",
         "rawType": "int64",
         "type": "integer"
        },
        {
         "name": "17",
         "rawType": "int64",
         "type": "integer"
        },
        {
         "name": "18",
         "rawType": "int64",
         "type": "integer"
        },
        {
         "name": "19",
         "rawType": "int64",
         "type": "integer"
        },
        {
         "name": "20",
         "rawType": "int64",
         "type": "integer"
        },
        {
         "name": "21",
         "rawType": "int64",
         "type": "integer"
        },
        {
         "name": "22",
         "rawType": "int64",
         "type": "integer"
        },
        {
         "name": "23",
         "rawType": "int64",
         "type": "integer"
        },
        {
         "name": "id",
         "rawType": "object",
         "type": "string"
        }
       ],
       "conversionMethod": "pd.DataFrame",
       "ref": "c0245e3b-d5ae-4396-a562-a96bc144e53a",
       "rows": [
        [
         "0",
         "1235",
         "1959",
         "2978",
         "351",
         "766",
         "361",
         "193",
         "113",
         "212",
         "129",
         "196",
         "59",
         "307",
         "80",
         "14",
         "8",
         "21",
         "3",
         "0",
         "9",
         "0",
         "0",
         "6",
         "0",
         "20230728_Marc_ERC SOC S1_Males_box ab_02_01_1DLC_resnet50_DeepOF_14Jul26shuffle1_100000"
        ],
        [
         "1",
         "2184",
         "2555",
         "860",
         "1199",
         "644",
         "183",
         "120",
         "302",
         "295",
         "94",
         "78",
         "137",
         "82",
         "46",
         "16",
         "6",
         "115",
         "0",
         "0",
         "60",
         "0",
         "1",
         "23",
         "0",
         "20230728_Marc_ERC SOC S1_Males_box cd_04_01_1DLC_resnet50_DeepOF_14Jul26shuffle1_100000"
        ],
        [
         "2",
         "1851",
         "2699",
         "2620",
         "773",
         "334",
         "76",
         "171",
         "98",
         "111",
         "79",
         "34",
         "38",
         "51",
         "7",
         "3",
         "0",
         "14",
         "0",
         "0",
         "41",
         "0",
         "0",
         "0",
         "0",
         "20230728_Marc_ERC SOC S1_Males_box ab_05_01_1DLC_resnet50_DeepOF_14Jul26shuffle1_100000"
        ],
        [
         "3",
         "1736",
         "2653",
         "2214",
         "906",
         "592",
         "140",
         "232",
         "73",
         "173",
         "0",
         "21",
         "34",
         "169",
         "51",
         "0",
         "2",
         "4",
         "0",
         "0",
         "0",
         "0",
         "0",
         "0",
         "0",
         "20230728_Marc_ERC SOC S1_Males_box ab_04_01_1DLC_resnet50_DeepOF_14Jul26shuffle1_100000"
        ],
        [
         "4",
         "1001",
         "1993",
         "3074",
         "797",
         "712",
         "128",
         "230",
         "73",
         "238",
         "110",
         "160",
         "174",
         "193",
         "86",
         "6",
         "3",
         "22",
         "0",
         "0",
         "0",
         "0",
         "0",
         "0",
         "0",
         "20230728_Marc_ERC SOC S1_Males_box ab_03_01_1DLC_resnet50_DeepOF_14Jul26shuffle1_100000"
        ]
       ],
       "shape": {
        "columns": 25,
        "rows": 5
       }
      },
      "text/html": [
       "<div>\n",
       "<style scoped>\n",
       "    .dataframe tbody tr th:only-of-type {\n",
       "        vertical-align: middle;\n",
       "    }\n",
       "\n",
       "    .dataframe tbody tr th {\n",
       "        vertical-align: top;\n",
       "    }\n",
       "\n",
       "    .dataframe thead th {\n",
       "        text-align: right;\n",
       "    }\n",
       "</style>\n",
       "<table border=\"1\" class=\"dataframe\">\n",
       "  <thead>\n",
       "    <tr style=\"text-align: right;\">\n",
       "      <th></th>\n",
       "      <th>0</th>\n",
       "      <th>1</th>\n",
       "      <th>2</th>\n",
       "      <th>3</th>\n",
       "      <th>4</th>\n",
       "      <th>5</th>\n",
       "      <th>6</th>\n",
       "      <th>7</th>\n",
       "      <th>8</th>\n",
       "      <th>9</th>\n",
       "      <th>...</th>\n",
       "      <th>15</th>\n",
       "      <th>16</th>\n",
       "      <th>17</th>\n",
       "      <th>18</th>\n",
       "      <th>19</th>\n",
       "      <th>20</th>\n",
       "      <th>21</th>\n",
       "      <th>22</th>\n",
       "      <th>23</th>\n",
       "      <th>id</th>\n",
       "    </tr>\n",
       "  </thead>\n",
       "  <tbody>\n",
       "    <tr>\n",
       "      <th>0</th>\n",
       "      <td>1235</td>\n",
       "      <td>1959</td>\n",
       "      <td>2978</td>\n",
       "      <td>351</td>\n",
       "      <td>766</td>\n",
       "      <td>361</td>\n",
       "      <td>193</td>\n",
       "      <td>113</td>\n",
       "      <td>212</td>\n",
       "      <td>129</td>\n",
       "      <td>...</td>\n",
       "      <td>8</td>\n",
       "      <td>21</td>\n",
       "      <td>3</td>\n",
       "      <td>0</td>\n",
       "      <td>9</td>\n",
       "      <td>0</td>\n",
       "      <td>0</td>\n",
       "      <td>6</td>\n",
       "      <td>0</td>\n",
       "      <td>20230728_Marc_ERC SOC S1_Males_box ab_02_01_1D...</td>\n",
       "    </tr>\n",
       "    <tr>\n",
       "      <th>1</th>\n",
       "      <td>2184</td>\n",
       "      <td>2555</td>\n",
       "      <td>860</td>\n",
       "      <td>1199</td>\n",
       "      <td>644</td>\n",
       "      <td>183</td>\n",
       "      <td>120</td>\n",
       "      <td>302</td>\n",
       "      <td>295</td>\n",
       "      <td>94</td>\n",
       "      <td>...</td>\n",
       "      <td>6</td>\n",
       "      <td>115</td>\n",
       "      <td>0</td>\n",
       "      <td>0</td>\n",
       "      <td>60</td>\n",
       "      <td>0</td>\n",
       "      <td>1</td>\n",
       "      <td>23</td>\n",
       "      <td>0</td>\n",
       "      <td>20230728_Marc_ERC SOC S1_Males_box cd_04_01_1D...</td>\n",
       "    </tr>\n",
       "    <tr>\n",
       "      <th>2</th>\n",
       "      <td>1851</td>\n",
       "      <td>2699</td>\n",
       "      <td>2620</td>\n",
       "      <td>773</td>\n",
       "      <td>334</td>\n",
       "      <td>76</td>\n",
       "      <td>171</td>\n",
       "      <td>98</td>\n",
       "      <td>111</td>\n",
       "      <td>79</td>\n",
       "      <td>...</td>\n",
       "      <td>0</td>\n",
       "      <td>14</td>\n",
       "      <td>0</td>\n",
       "      <td>0</td>\n",
       "      <td>41</td>\n",
       "      <td>0</td>\n",
       "      <td>0</td>\n",
       "      <td>0</td>\n",
       "      <td>0</td>\n",
       "      <td>20230728_Marc_ERC SOC S1_Males_box ab_05_01_1D...</td>\n",
       "    </tr>\n",
       "    <tr>\n",
       "      <th>3</th>\n",
       "      <td>1736</td>\n",
       "      <td>2653</td>\n",
       "      <td>2214</td>\n",
       "      <td>906</td>\n",
       "      <td>592</td>\n",
       "      <td>140</td>\n",
       "      <td>232</td>\n",
       "      <td>73</td>\n",
       "      <td>173</td>\n",
       "      <td>0</td>\n",
       "      <td>...</td>\n",
       "      <td>2</td>\n",
       "      <td>4</td>\n",
       "      <td>0</td>\n",
       "      <td>0</td>\n",
       "      <td>0</td>\n",
       "      <td>0</td>\n",
       "      <td>0</td>\n",
       "      <td>0</td>\n",
       "      <td>0</td>\n",
       "      <td>20230728_Marc_ERC SOC S1_Males_box ab_04_01_1D...</td>\n",
       "    </tr>\n",
       "    <tr>\n",
       "      <th>4</th>\n",
       "      <td>1001</td>\n",
       "      <td>1993</td>\n",
       "      <td>3074</td>\n",
       "      <td>797</td>\n",
       "      <td>712</td>\n",
       "      <td>128</td>\n",
       "      <td>230</td>\n",
       "      <td>73</td>\n",
       "      <td>238</td>\n",
       "      <td>110</td>\n",
       "      <td>...</td>\n",
       "      <td>3</td>\n",
       "      <td>22</td>\n",
       "      <td>0</td>\n",
       "      <td>0</td>\n",
       "      <td>0</td>\n",
       "      <td>0</td>\n",
       "      <td>0</td>\n",
       "      <td>0</td>\n",
       "      <td>0</td>\n",
       "      <td>20230728_Marc_ERC SOC S1_Males_box ab_03_01_1D...</td>\n",
       "    </tr>\n",
       "  </tbody>\n",
       "</table>\n",
       "<p>5 rows × 25 columns</p>\n",
       "</div>"
      ],
      "text/plain": [
       "      0     1     2     3    4    5    6    7    8    9  ...  15   16  17  18  \\\n",
       "0  1235  1959  2978   351  766  361  193  113  212  129  ...   8   21   3   0   \n",
       "1  2184  2555   860  1199  644  183  120  302  295   94  ...   6  115   0   0   \n",
       "2  1851  2699  2620   773  334   76  171   98  111   79  ...   0   14   0   0   \n",
       "3  1736  2653  2214   906  592  140  232   73  173    0  ...   2    4   0   0   \n",
       "4  1001  1993  3074   797  712  128  230   73  238  110  ...   3   22   0   0   \n",
       "\n",
       "   19  20  21  22  23                                                 id  \n",
       "0   9   0   0   6   0  20230728_Marc_ERC SOC S1_Males_box ab_02_01_1D...  \n",
       "1  60   0   1  23   0  20230728_Marc_ERC SOC S1_Males_box cd_04_01_1D...  \n",
       "2  41   0   0   0   0  20230728_Marc_ERC SOC S1_Males_box ab_05_01_1D...  \n",
       "3   0   0   0   0   0  20230728_Marc_ERC SOC S1_Males_box ab_04_01_1D...  \n",
       "4   0   0   0   0   0  20230728_Marc_ERC SOC S1_Males_box ab_03_01_1D...  \n",
       "\n",
       "[5 rows x 25 columns]"
      ]
     },
     "execution_count": 37,
     "metadata": {},
     "output_type": "execute_result"
    }
   ],
   "source": [
    "# Create a DataFrame to store abundance syllables as columns\n",
    "rows = []\n",
    "\n",
    "for file, syllables in syllable_dict.items():\n",
    "    counts = Counter(syllables)\n",
    "    row = {syll: counts.get(syll, 0) for syll in all_syllables}\n",
    "    row['id'] = file\n",
    "    rows.append(row)\n",
    "\n",
    "syllable_df = pd.DataFrame(rows)\n",
    "syllable_df = syllable_df.fillna(0)"
   ]
  },
  {
   "cell_type": "code",
   "execution_count": 40,
   "id": "fac6bd9c",
   "metadata": {},
   "outputs": [],
   "source": [
    "# Split \"id\" column by \"DLC\" and keep the first part\n",
    "syllable_df['id'] = syllable_df['id'].str.split('DLC').str[0]\n",
    "\n",
    "# Add a column indicating the cue acording to the target values\n",
    "syllable_df['learning'] = syllable_df['id'].map(target_values.set_index('experiment_id')['learning'])\n",
    "\n",
    "# Add a column indicating the group acording to the target values\n",
    "syllable_df['group'] = syllable_df['id'].map(target_values.set_index('experiment_id')['group'])"
   ]
  },
  {
   "cell_type": "code",
   "execution_count": 44,
   "id": "a5184b8c",
   "metadata": {},
   "outputs": [
    {
     "data": {
      "text/plain": [
       "0           0\n",
       "1           0\n",
       "2           0\n",
       "3           0\n",
       "4           0\n",
       "5           0\n",
       "6           0\n",
       "7           0\n",
       "8           0\n",
       "9           0\n",
       "10          0\n",
       "11          0\n",
       "12          0\n",
       "13          0\n",
       "14          0\n",
       "15          0\n",
       "16          0\n",
       "17          0\n",
       "18          0\n",
       "19          0\n",
       "20          0\n",
       "21          0\n",
       "22          0\n",
       "23          0\n",
       "id          0\n",
       "learning    0\n",
       "group       0\n",
       "dtype: int64"
      ]
     },
     "execution_count": 44,
     "metadata": {},
     "output_type": "execute_result"
    }
   ],
   "source": [
    "# Check for missing values in the abundance_df DataFrame\n",
    "syllable_df.isnull().sum()"
   ]
  },
  {
   "cell_type": "code",
   "execution_count": 45,
   "id": "17e6816f",
   "metadata": {},
   "outputs": [],
   "source": [
    "# Download combined dataframe to csv\n",
    "syllable_df.to_csv(root / '/Users/mcanela/Desktop/Behavior paper review/moseq_abundance_mean.csv', index=False)"
   ]
  }
 ],
 "metadata": {
  "kernelspec": {
   "display_name": "deepof",
   "language": "python",
   "name": "python3"
  },
  "language_info": {
   "codemirror_mode": {
    "name": "ipython",
    "version": 3
   },
   "file_extension": ".py",
   "mimetype": "text/x-python",
   "name": "python",
   "nbconvert_exporter": "python",
   "pygments_lexer": "ipython3",
   "version": "3.10.16"
  }
 },
 "nbformat": 4,
 "nbformat_minor": 5
}
