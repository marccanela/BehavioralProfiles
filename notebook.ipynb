{
 "cells": [
  {
   "cell_type": "code",
   "execution_count": 1,
   "metadata": {},
   "outputs": [],
   "source": [
    "import pandas as pd\n",
    "import pickle as pkl\n",
    "import pingouin as pg\n",
    "from pathlib import Path\n",
    "from notebook_script import *\n",
    "import seaborn as sns\n",
    "import matplotlib.pyplot as plt"
   ]
  },
  {
   "cell_type": "code",
   "execution_count": 2,
   "metadata": {},
   "outputs": [],
   "source": [
    "root = Path('//folder/becell/Lab Projects/ERCstG_HighMemory/Data/Marc/1_SOC/2_ProtocolSexAge/')\n",
    "directory = root / \"MoSeq/2024_05_23-11_06_49/results\"\n",
    "conditions_dir = root\n",
    "\n",
    "# Upload the conditions\n",
    "txt_path = conditions_dir / \"DeepOF/conditions.csv\"\n",
    "target_values = pd.read_csv(txt_path)"
   ]
  },
  {
   "cell_type": "code",
   "execution_count": null,
   "metadata": {},
   "outputs": [],
   "source": [
    "blue = '#194680'\n",
    "red = '#801946'\n",
    "grey = '#636466'\n",
    "\n",
    "specifics_transmatrix = {'learning': 'direct'}\n",
    "specifics_bootstrap = ['group']\n",
    "time_period = 'ON'\n",
    "\n",
    "if time_period == 'ON':\n",
    "    num = 3\n",
    "elif time_period == 'OFF':\n",
    "    num = 2"
   ]
  },
  {
   "cell_type": "code",
   "execution_count": null,
   "metadata": {},
   "outputs": [],
   "source": [
    "# Generate all paired combinations\n",
    "specifics_bootstrap = ['sex', 'age']\n",
    "target_values[\"group\"] = target_values[specifics_bootstrap].apply(\"_\".join, axis=1)"
   ]
  },
  {
   "cell_type": "code",
   "execution_count": null,
   "metadata": {},
   "outputs": [],
   "source": [
    "syllables_dict = filter_data(specifics_transmatrix, directory, 6, num, target_values)"
   ]
  },
  {
   "cell_type": "code",
   "execution_count": null,
   "metadata": {},
   "outputs": [],
   "source": [
    "transition_dict, _ = create_transition_dict(syllables_dict, silence_diagonal=True, normalize=False)"
   ]
  },
  {
   "cell_type": "code",
   "execution_count": null,
   "metadata": {},
   "outputs": [],
   "source": [
    "behavior_bootstrap(transition_dict, target_values, 'group')"
   ]
  },
  {
   "cell_type": "code",
   "execution_count": null,
   "metadata": {},
   "outputs": [],
   "source": [
    "stats_df = pairwise_behavior_bootstrap(transition_dict, target_values, 'group')\n",
    "stats_df.to_csv(f'C:/Users/mcanela/Desktop/stats_{time_period}_direct.csv', index=False)"
   ]
  },
  {
   "cell_type": "code",
   "execution_count": 3,
   "metadata": {},
   "outputs": [],
   "source": [
    "# specific_combinations = {\n",
    "#     'paired': ['paired'],\n",
    "#     'unpaired': ['unpaired'],\n",
    "#     'no-shock': ['no-shock'],\n",
    "# }\n",
    "\n",
    "specific_combinations = {\n",
    "    'young_males': ['male_young'],\n",
    "    'young_females': ['female_young'],\n",
    "    'old_males': ['male_old'],\n",
    "    'old_females': ['female_old'],\n",
    "}\n",
    "\n",
    "# specific_combinations = {\n",
    "#     'paired': ['yes'],\n",
    "#     'no': ['no'],\n",
    "# }\n",
    "\n",
    "custom_labels = {\n",
    "    'mediated_2': 'Before the tone',\n",
    "    'mediated_3': 'During the tone (Mediated)',\n",
    "    'direct_2': 'Before the light',\n",
    "    'direct_3': 'During the light (Direct)',\n",
    "}"
   ]
  },
  {
   "cell_type": "markdown",
   "metadata": {},
   "source": [
    "## Plot stationary distribution combined"
   ]
  },
  {
   "cell_type": "code",
   "execution_count": null,
   "metadata": {},
   "outputs": [],
   "source": [
    "stationary_dict = compute_stationary_dict(specific_combinations, syllables_dict, target_values)\n",
    "data = plot_stationary_distribution(stationary_dict)"
   ]
  },
  {
   "cell_type": "markdown",
   "metadata": {},
   "source": [
    "## Plot stationary distribution by animal"
   ]
  },
  {
   "cell_type": "code",
   "execution_count": null,
   "metadata": {},
   "outputs": [],
   "source": [
    "times = [2, 3]\n",
    "learnings = [{'learning': 'direct'}, {'learning': 'mediated'}]\n",
    "\n",
    "all_dict = {}\n",
    "for time in times:\n",
    "    for specifics_transmatrix in learnings:\n",
    "        stationary_dict = {}\n",
    "        for specific in specific_combinations.values():\n",
    "            syllables_dict = filter_data(specifics_transmatrix, directory, 6, time, target_values)\n",
    "            filtered_dict = filter_syllables_dict(syllables_dict, specific, target_values, 'group')\n",
    "            transition_dict, states = create_transition_dict(filtered_dict, silence_diagonal=True, normalize=False)\n",
    "            stationary_distributions, new_states_list = compute_stationary_distributions_animal(transition_dict, states)\n",
    "            stationary_dict[specific[0]] = [stationary_distributions, new_states_list]\n",
    "        all_dict[f'{specifics_transmatrix[\"learning\"]}_{time}'] = stationary_dict\n",
    "\n",
    "colors = {\n",
    "    'mediated_2': 'lightblue',\n",
    "    'mediated_3': 'blue',\n",
    "    'direct_2': 'lightcoral',\n",
    "    'direct_3': 'red',\n",
    "}"
   ]
  },
  {
   "cell_type": "code",
   "execution_count": null,
   "metadata": {},
   "outputs": [],
   "source": [
    "syllables = [0, 1, 2]\n",
    "# syllables = [3, 4, 8, 10, 12, 14, 15]\n",
    "# syllables = [2]\n",
    "specific = 'no-shock'\n",
    "\n",
    "probabilities_dict = {}\n",
    "for tag, stationary_dict in all_dict.items():\n",
    "    stationary_distributions, new_states_list = stationary_dict[specific]\n",
    "    probabilities = []\n",
    "    for stationary_distribution, new_states in zip(stationary_distributions, new_states_list):\n",
    "        probability_syllables = []\n",
    "        for syllable in syllables:\n",
    "            if syllable in new_states:\n",
    "                probability = [sd for sd, ns in zip(stationary_distribution, new_states) if ns == syllable]\n",
    "                probability_syllables.extend(probability)\n",
    "        probabilities.extend([np.sum(probability_syllables)])\n",
    "    probabilities_dict[tag] = probabilities\n",
    "\n",
    "# probabilities_dict['mediated_3'] = [x for x in probabilities_dict['mediated_3'] if x > 1e-6]\n",
    "\n",
    "data = []\n",
    "for category, values in probabilities_dict.items():\n",
    "    for value in values:\n",
    "        data.append((category, value))\n",
    "df = pd.DataFrame(data, columns=['Category', 'Value'])\n",
    "\n",
    "# Create figure\n",
    "plt.figure(figsize=(5, 2.5))\n",
    "\n",
    "# Horizontal bars\n",
    "sns.barplot(\n",
    "    y='Category', x='Value', data=df,\n",
    "    palette=colors, alpha=0.5, edgecolor='black',\n",
    "    order=['mediated_2', 'mediated_3', 'direct_2', 'direct_3'],\n",
    "    capsize=0.3,       # Controls the width of the error bar caps\n",
    "    errwidth=1.5,    # Controls the thickness of the error bars\n",
    "    linewidth=2      # Controls the width of the bars themselves\n",
    ")\n",
    "\n",
    "# Horizontal Stripplot\n",
    "sns.stripplot(\n",
    "    y='Category', x='Value', data=df, jitter=True, \n",
    "    palette=colors, alpha=0.8, edgecolor='black', linewidth=1,\n",
    "    order=['mediated_2', 'mediated_3', 'direct_2', 'direct_3']\n",
    ")\n",
    "\n",
    "# Labels\n",
    "plt.ylabel(\"\", color='dimgrey')\n",
    "plt.xlabel(\"Probability\", color='dimgrey', fontsize=10, fontweight='bold')\n",
    "plt.xlim(0,1)\n",
    "\n",
    "# Adjust x-tick labels with custom labels\n",
    "plt.yticks(ticks=range(len(custom_labels)), labels=list(custom_labels.values()), fontsize=10, fontweight='bold')\n",
    "\n",
    "# Change axis colors to dark grey\n",
    "plt.gca().spines['top'].set_color('dimgrey')\n",
    "plt.gca().spines['right'].set_color('dimgrey')\n",
    "plt.gca().spines['left'].set_color('dimgrey')\n",
    "plt.gca().spines['bottom'].set_color('dimgrey')\n",
    "\n",
    "plt.gca().tick_params(axis='x', colors='dimgrey')\n",
    "plt.gca().tick_params(axis='y', colors='dimgrey')\n",
    "\n",
    "# Add legend\n",
    "# handles = [plt.Line2D([0], [0], marker='o', color='w', alpha=0.8, markerfacecolor=color, markersize=10, label=custom_labels[label]) \n",
    "#            for label, color in colors.items()]\n",
    "# plt.legend(handles=handles, loc='upper right')\n",
    "\n",
    "plt.tight_layout()\n",
    "plt.show()"
   ]
  },
  {
   "cell_type": "code",
   "execution_count": null,
   "metadata": {},
   "outputs": [],
   "source": [
    "# Stats\n",
    "# pg.normality(df, 'Value', 'Category')\n",
    "# pg.homoscedasticity(df, 'Value', 'Category')\n",
    "# pg.anova(df, 'Value', 'Category')\n",
    "# pg.welch_anova(df, 'Value', 'Category')\n",
    "# pg.pairwise_tukey(df, 'Value', 'Category')"
   ]
  },
  {
   "cell_type": "code",
   "execution_count": null,
   "metadata": {},
   "outputs": [],
   "source": [
    "# Stats\n",
    "group_tag = 'mediated'\n",
    "group1 = df[df['Category'] == f'{group_tag}_2']['Value']\n",
    "group2 = df[df['Category'] == f'{group_tag}_3']['Value']\n",
    "\n",
    "differences = [g2 - g1 for g1, g2 in zip(group1, group2)]\n",
    "print('Normality:\\n', pg.normality(differences))\n",
    "\n",
    "print('Paired t-test:\\n', pg.ttest(group1, group2, paired=True))\n",
    "print('Wilcoxon:\\n', pg.wilcoxon(group1, group2))"
   ]
  },
  {
   "cell_type": "markdown",
   "metadata": {},
   "source": [
    "## Individual radar plots"
   ]
  },
  {
   "cell_type": "code",
   "execution_count": null,
   "metadata": {},
   "outputs": [],
   "source": [
    "deepof_path = root / \"DeepOF/supervised_annotation.pkl\"\n",
    "with open(deepof_path, 'rb') as file:\n",
    "        deepof = pkl.load(file)\n",
    "\n",
    "letter_features_dict = explain_with_deepof(stationary_dict, syllables_dict, deepof, target_values,\n",
    "                        specific_combinations, specifics_transmatrix, 6, num, 'group')\n",
    "plot_deepof_explanation(letter_features_dict)"
   ]
  },
  {
   "cell_type": "code",
   "execution_count": null,
   "metadata": {},
   "outputs": [],
   "source": [
    "# cmap = plt.cm.get_cmap(\"gist_rainbow\")\n",
    "# num_colors = 3\n",
    "# colors = [cmap(i) for i in np.linspace(0, 1, num_colors)]\n",
    "\n",
    "radar_plot(letter_features_dict, 'NO-SHOCK', 'crimson')\n",
    "\n",
    "# lightblue\n",
    "# royalblue\n",
    "# pink\n",
    "# crimson"
   ]
  },
  {
   "cell_type": "markdown",
   "metadata": {},
   "source": [
    "## Analysis between time points"
   ]
  },
  {
   "cell_type": "code",
   "execution_count": 4,
   "metadata": {},
   "outputs": [
    {
     "name": "stderr",
     "output_type": "stream",
     "text": [
      "c:\\Users\\mcanela\\AppData\\Local\\miniconda3\\envs\\deepof\\lib\\site-packages\\paramiko\\transport.py:219: CryptographyDeprecationWarning: Blowfish has been deprecated and will be removed in a future release\n",
      "  \"class\": algorithms.Blowfish,\n"
     ]
    },
    {
     "name": "stdout",
     "output_type": "stream",
     "text": [
      "WARNING:tensorflow:From c:\\Users\\mcanela\\AppData\\Local\\miniconda3\\envs\\deepof\\lib\\site-packages\\tf_keras\\src\\losses.py:2976: The name tf.losses.sparse_softmax_cross_entropy is deprecated. Please use tf.compat.v1.losses.sparse_softmax_cross_entropy instead.\n",
      "\n",
      "WARNING:tensorflow:From c:\\Users\\mcanela\\AppData\\Local\\miniconda3\\envs\\deepof\\lib\\site-packages\\tensorflow_probability\\python\\internal\\backend\\numpy\\_utils.py:48: The name tf.logging.TaskLevelStatusMessage is deprecated. Please use tf.compat.v1.logging.TaskLevelStatusMessage instead.\n",
      "\n",
      "WARNING:tensorflow:From c:\\Users\\mcanela\\AppData\\Local\\miniconda3\\envs\\deepof\\lib\\site-packages\\tensorflow_probability\\python\\internal\\backend\\numpy\\_utils.py:48: The name tf.control_flow_v2_enabled is deprecated. Please use tf.compat.v1.control_flow_v2_enabled instead.\n",
      "\n"
     ]
    }
   ],
   "source": [
    "deepof_path = root / \"DeepOF/supervised_annotation.pkl\"\n",
    "with open(deepof_path, 'rb') as file:\n",
    "        deepof = pkl.load(file)"
   ]
  },
  {
   "cell_type": "code",
   "execution_count": 35,
   "metadata": {},
   "outputs": [
    {
     "data": {
      "image/png": "[encoded data removed]",
      "text/plain": [
       "<Figure size 250x250 with 1 Axes>"
      ]
     },
     "metadata": {},
     "output_type": "display_data"
    },
    {
     "name": "stdout",
     "output_type": "stream",
     "text": [
      "0.2574112205905225\n"
     ]
    }
   ],
   "source": [
    "# Dual radar plot between time points\n",
    "learning = 'direct'\n",
    "myspecific = 'female_old'\n",
    "\n",
    "if learning == 'mediated':\n",
    "        colors = {2: 'lightblue', 3: 'royalblue'}\n",
    "if learning == 'direct':\n",
    "        colors = {2: 'pink', 3: 'crimson'}\n",
    "specifics_transmatrix = {'learning': learning}\n",
    "specific_combination = {myspecific: [myspecific]}\n",
    "times = [2, 3]\n",
    "letter_features_dicts = {}\n",
    "\n",
    "for time in times:\n",
    "        syllables_dict = filter_data(specifics_transmatrix, directory, 6, time, target_values)\n",
    "        for letter, value in specific_combination.items():\n",
    "                filtered_dict = filter_syllables_dict(syllables_dict, value, target_values, 'group')\n",
    "                transition_dict, states = create_transition_dict(filtered_dict, silence_diagonal=True, normalize=False)\n",
    "                stationary, new_states = compute_stationary_distributions(transition_dict, states)\n",
    "                stationary_dict = {letter: [stationary, new_states]}\n",
    "                letter_features_dict = explain_with_deepof(stationary_dict, syllables_dict, deepof, target_values,\n",
    "                                specific_combination, specifics_transmatrix, 6, time, 'group')\n",
    "                letter_features_dicts[time] = letter_features_dict\n",
    "\n",
    "polygons = dual_radar_plot(letter_features_dicts, myspecific.upper(), colors)\n",
    "iou = compute_iou(polygons)\n",
    "print(iou)"
   ]
  },
  {
   "cell_type": "code",
   "execution_count": null,
   "metadata": {},
   "outputs": [],
   "source": [
    "categories = [\"climbing\", \"huddle\", \"lookaround\", \"sniffing\", \"speed\"]\n",
    "scales = [(0, 0.2), (0, 0.2), (0, 0.3), (0, 0.1), (0, 20)]\n",
    "\n",
    "myspecific = 'yes'\n",
    "specifics_transmatrix = {'experiment': 'adol_stress'}\n",
    "times = [1,2]\n",
    "colors = {times[0]: 'lightgreen', times[1]: 'darkgreen'}\n",
    "bins = 5\n",
    "\n",
    "polygons = dual_radar_plot_deepof(deepof, times, target_values, specifics_transmatrix, myspecific, colors, categories, scales, bins)\n",
    "iou = compute_iou(polygons)\n",
    "print(iou)"
   ]
  },
  {
   "cell_type": "code",
   "execution_count": null,
   "metadata": {},
   "outputs": [],
   "source": [
    "# Extra code to plot individual traits over time\n",
    "times = [0,1,2,3,4]\n",
    "\n",
    "all_data_dict = process_deepof(\n",
    "        deepof,\n",
    "        times,\n",
    "        target_values,\n",
    "        specifics_transmatrix,\n",
    "        myspecific,\n",
    "        categories,\n",
    "        bins,\n",
    "    )\n",
    "\n",
    "from scipy.stats import sem\n",
    "time_features_dicts = {}\n",
    "for bin_num, dict_features in all_data_dict.items():\n",
    "    time_features_dicts[bin_num] = {\n",
    "        category: [np.mean(dict_features[category]), sem(dict_features[category])] for category in categories\n",
    "        }\n",
    "\n",
    "# Compute statistics\n",
    "stats_features_dict = {}\n",
    "for bin in range(len(times)):\n",
    "    if bin+1 in times:\n",
    "        first_bin = all_data_dict[bin]\n",
    "        second_bin = all_data_dict[bin+1]\n",
    "        categories_pvals = {}\n",
    "        for category in categories:\n",
    "            pval = pg.wilcoxon(first_bin[category], second_bin[category])['p-val'][0]\n",
    "            categories_pvals[category] = pval\n",
    "        stats_features_dict[f'{bin}_{bin+1}'] = categories_pvals\n",
    "\n",
    "# Plot individual trait over time with seaborn lineplot\n",
    "trait = 'sniffing'\n",
    "data = []\n",
    "for time, features_dict in time_features_dicts.items():\n",
    "    data.append((time+1, features_dict[trait][0], features_dict[trait][1]))\n",
    "df = pd.DataFrame(data, columns=['Time', 'Value', 'Error'])\n",
    "\n",
    "sns.lineplot(x='Time', y='Value', data=df, color='darkgreen', marker='o')\n",
    "plt.fill_between(df[\"Time\"], df[\"Value\"] - df[\"Error\"], df[\"Value\"] + df[\"Error\"], color='darkgreen', alpha=0.2)\n",
    "plt.xticks(df[\"Time\"])\n",
    "plt.xlabel('Time bins [min]')\n",
    "plt.ylabel(trait.capitalize())\n",
    "\n",
    "# Plot statistics\n",
    "for time, categories_pvals in stats_features_dict.items():\n",
    "    time_index = int(time.split('_')[0])  # Extract first number\n",
    "    for category, pval in categories_pvals.items():\n",
    "        if category == trait:\n",
    "            x = time_index + 1.5  # Adjust x-position\n",
    "            y = time_features_dicts.get(time_index, {}).get(category, [0])[0]  # Extract y-value\n",
    "            if pval < 0.001:\n",
    "                plt.text(x, y, \"***\", fontsize=12)\n",
    "            elif pval < 0.01:\n",
    "                plt.text(x, y, \"**\", fontsize=12)\n",
    "            elif pval < 0.05:\n",
    "                plt.text(x, y, \"*\", fontsize=12)\n",
    "\n",
    "plt.show()"
   ]
  },
  {
   "cell_type": "code",
   "execution_count": null,
   "metadata": {},
   "outputs": [],
   "source": [
    "timelapse_deepof_radar_permutation(deepof, times, target_values, specifics_transmatrix, myspecific, categories, scales, colors[times[1]], bins, pvalue=\"empirical\")"
   ]
  },
  {
   "cell_type": "code",
   "execution_count": 36,
   "metadata": {},
   "outputs": [
    {
     "name": "stdout",
     "output_type": "stream",
     "text": [
      "z-score: 5.38\n",
      "p-value: 3.77e-08\n"
     ]
    },
    {
     "data": {
      "image/png": "[encoded data removed]",
      "text/plain": [
       "<Figure size 300x250 with 1 Axes>"
      ]
     },
     "metadata": {},
     "output_type": "display_data"
    },
    {
     "data": {
      "text/plain": [
       "(5.377868310208583, 3.7686456400010115e-08)"
      ]
     },
     "execution_count": 36,
     "metadata": {},
     "output_type": "execute_result"
    }
   ],
   "source": [
    "# Perform statistics\n",
    "transition_dicts = {}\n",
    "for time in times:\n",
    "    syllables_dict = filter_data(specifics_transmatrix, directory, 6, time, target_values)\n",
    "    for value in specific_combination.values():\n",
    "        filtered_dict = filter_syllables_dict(syllables_dict, value, target_values, 'group')\n",
    "        transition_dict, states = create_transition_dict(filtered_dict, silence_diagonal=True, normalize=False)\n",
    "        transition_dicts[time] = [transition_dict, states]\n",
    "\n",
    "timelapse_behavior_bootstrap(transition_dicts, colors[3])"
   ]
  },
  {
   "cell_type": "markdown",
   "metadata": {},
   "source": [
    "## Transition plot"
   ]
  },
  {
   "cell_type": "code",
   "execution_count": null,
   "metadata": {},
   "outputs": [],
   "source": [
    "timelapse_circular_ind_transition_graph(transition_dicts, colors, times[0])"
   ]
  },
  {
   "cell_type": "code",
   "execution_count": null,
   "metadata": {},
   "outputs": [],
   "source": [
    "timelapse_circular_ind_transition_graph(transition_dicts, colors, times[1])"
   ]
  },
  {
   "cell_type": "code",
   "execution_count": 37,
   "metadata": {},
   "outputs": [
    {
     "data": {
      "text/plain": [
       "<Axes: >"
      ]
     },
     "execution_count": 37,
     "metadata": {},
     "output_type": "execute_result"
    },
    {
     "data": {
      "image/png": "[encoded data removed]",
      "text/plain": [
       "<Figure size 300x300 with 1 Axes>"
      ]
     },
     "metadata": {},
     "output_type": "display_data"
    }
   ],
   "source": [
    "colors = {2: 'violet', 3: 'mediumseagreen'}\n",
    "# 2 for downregulated, 3 for upregulated\n",
    "\n",
    "measures_direct = analyze_transition_changes(transition_dicts)\n",
    "timelapse_circular_transition_graph(transition_dicts, colors)"
   ]
  },
  {
   "cell_type": "code",
   "execution_count": null,
   "metadata": {},
   "outputs": [],
   "source": [
    "timelapse_heatmap_transition_graph(transition_dicts, colors, period='ON', vmax=5)"
   ]
  },
  {
   "cell_type": "code",
   "execution_count": 38,
   "metadata": {},
   "outputs": [
    {
     "data": {
      "image/png": "[encoded data removed]",
      "text/plain": [
       "<Figure size 450x250 with 1 Axes>"
      ]
     },
     "metadata": {},
     "output_type": "display_data"
    }
   ],
   "source": [
    "custom_labels = ['Tone Upreg.', 'Tone Downreg.', 'Light Upreg.', 'Light Downreg.']\n",
    "\n",
    "category = []\n",
    "value = []\n",
    "for measures, tag in zip([measures_direct, measures_mediated], ['light', 'tone']):\n",
    "    category.extend([f'up_{tag}'] * len(measures['upregulated']) + [f'down_{tag}'] * len(measures['downregulated']))\n",
    "    value.extend(measures['upregulated'] + measures['downregulated'])\n",
    "\n",
    "all_data = {'Category': category, 'Value': value}\n",
    "df = pd.DataFrame(all_data)\n",
    "\n",
    "# Create figure\n",
    "plt.figure(figsize=(4.5, 2.5))\n",
    "\n",
    "# Horizontal bars\n",
    "sns.barplot(\n",
    "    y='Category', x='Value', data=df,\n",
    "    palette=['mediumseagreen', 'violet', 'mediumseagreen', 'violet'], alpha=0.5, edgecolor='black',\n",
    "    order=['up_tone', 'down_tone', 'up_light', 'down_light'],\n",
    "    capsize=0.3,       # Controls the width of the error bar caps\n",
    "    errwidth=1.5,    # Controls the thickness of the error bars\n",
    "    linewidth=2      # Controls the width of the bars themselves\n",
    ")\n",
    "\n",
    "# Horizontal Stripplot\n",
    "sns.stripplot(\n",
    "    y='Category', x='Value', data=df, jitter=True, \n",
    "    palette=['mediumseagreen', 'violet', 'mediumseagreen', 'violet'], alpha=0.8, edgecolor='black', linewidth=1,\n",
    "    order=['up_tone', 'down_tone', 'up_light', 'down_light'],\n",
    ")\n",
    "\n",
    "# Plot connected dots\n",
    "for tone1, tone2 in zip(df[df.Category == 'up_tone']['Value'].values,\n",
    "                        df[df.Category == 'down_tone']['Value'].values):\n",
    "    plt.plot([tone1, tone2], [0, 1], color='k', linestyle=(0, (1, 1)), linewidth=1)\n",
    "\n",
    "for light1, light2 in zip(df[df.Category == 'up_light']['Value'].values,\n",
    "                        df[df.Category == 'down_light']['Value'].values):\n",
    "    plt.plot([light1, light2], [2, 3], color='k', linestyle=(0, (1, 1)), linewidth=1)\n",
    "\n",
    "# Labels\n",
    "plt.ylabel(\"\", color='dimgrey')\n",
    "plt.xlabel(\"Number of transitions\", color='dimgrey', fontsize=10, fontweight='bold')\n",
    "plt.yticks(ticks=range(len(custom_labels)), labels=custom_labels, fontsize=10, fontweight='bold')\n",
    "plt.xlim(0,80)\n",
    "\n",
    "# Change axis colors to dark grey\n",
    "plt.gca().spines['top'].set_color('dimgrey')\n",
    "plt.gca().spines['right'].set_color('dimgrey')\n",
    "plt.gca().spines['left'].set_color('dimgrey')\n",
    "plt.gca().spines['bottom'].set_color('dimgrey')\n",
    "\n",
    "plt.gca().tick_params(axis='x', colors='dimgrey')\n",
    "plt.gca().tick_params(axis='y', colors='dimgrey')\n",
    "\n",
    "plt.tight_layout()\n",
    "plt.show()"
   ]
  },
  {
   "cell_type": "code",
   "execution_count": 40,
   "metadata": {},
   "outputs": [
    {
     "name": "stdout",
     "output_type": "stream",
     "text": [
      "Normality:\n",
      "           W      pval  normal\n",
      "0  0.953385  0.686875    True\n",
      "Paired t-test:\n",
      "                 T  dof alternative         p-val             CI95%   cohen-d  \\\n",
      "T-test -11.677022   11   two-sided  1.539080e-07  [-34.76, -23.74]  4.236778   \n",
      "\n",
      "             BF10  power  \n",
      "T-test  8.823e+04    1.0  \n",
      "Wilcoxon:\n",
      "           W-val alternative     p-val  RBC  CLES\n",
      "Wilcoxon    0.0   two-sided  0.000488 -1.0   0.0\n"
     ]
    }
   ],
   "source": [
    "# Stats\n",
    "group_tag = 'light'\n",
    "group1 = df[df['Category'] == f'up_{group_tag}']['Value']\n",
    "group2 = df[df['Category'] == f'down_{group_tag}']['Value']\n",
    "\n",
    "differences = [g2 - g1 for g1, g2 in zip(group1, group2)]\n",
    "print('Normality:\\n', pg.normality(differences))\n",
    "\n",
    "print('Paired t-test:\\n', pg.ttest(group1, group2, paired=True))\n",
    "print('Wilcoxon:\\n', pg.wilcoxon(group1, group2))"
   ]
  },
  {
   "cell_type": "markdown",
   "metadata": {},
   "source": [
    "# AD/Stress analysis supervised"
   ]
  },
  {
   "cell_type": "code",
   "execution_count": null,
   "metadata": {},
   "outputs": [],
   "source": [
    "root = Path('//folder/becell/Lab Projects/Stress_Cort_Adolesc_Llavor/OF analysis/entraining habituation in OF/')\n",
    "\n",
    "# Upload the conditions\n",
    "txt_path = root / \"conditions.csv\"\n",
    "target_values = pd.read_csv(txt_path)\n",
    "\n",
    "# Upload the DeepOF annotations\n",
    "deepof_path = root / \"supervised_annotation.pkl\"\n",
    "with open(deepof_path, 'rb') as file:\n",
    "    deepof = pkl.load(file)"
   ]
  },
  {
   "cell_type": "code",
   "execution_count": null,
   "metadata": {},
   "outputs": [],
   "source": [
    "# Dual radar plot between WT and APP specifics\n",
    "specifics_transmatrix = {'experiment': 'adol_stress'}\n",
    "groups = ['yes', 'no']\n",
    "colors = {groups[0]: 'lightgreen', groups[1]: 'darkgreen'}\n",
    "bin_num = 0 # Start from 0\n",
    "num_bins = 1\n",
    "\n",
    "categories = [\"climbing\", \"huddle\", \"lookaround\", \"sniffing\", \"speed\"]\n",
    "scales = [(0, 0.2), (0, 0.2), (0, 0.25), (0, 0.12), (6, 15)]\n",
    "\n",
    "# Specify position in the OF\n",
    "bodypart = 'Nose'\n",
    "area = 'center'"
   ]
  },
  {
   "cell_type": "code",
   "execution_count": null,
   "metadata": {},
   "outputs": [],
   "source": [
    "# Add position on the OF\n",
    "data_directory = root / \"positionOF\"\n",
    "for file in data_directory.glob('*.csv'):\n",
    "    id = file.stem.split('DLC_')[0]\n",
    "    table = pd.read_csv(file)\n",
    "    bodyparts = list(set(table.points))\n",
    "    zones = list(set(table.zone))\n",
    "    for bodypart in bodyparts:\n",
    "        table_bodypart = table[table.points == bodypart]\n",
    "        table_bodypart = table_bodypart.groupby('seconds')['zone'].apply(lambda x: list(x.dropna())).reset_index()\n",
    "        for myzone in zones:\n",
    "            table_bodypart[myzone] = table_bodypart['zone'].apply(lambda x: myzone in x)\n",
    "        table_bodypart = table_bodypart.reset_index(drop=True)\n",
    "        deepof[id] = deepof[id].reset_index(drop=True)\n",
    "        if len(deepof[id]) == len(table_bodypart):\n",
    "            for myzone in zones:\n",
    "                deepof[id][f'{bodypart}_{myzone}'] = table_bodypart[myzone].to_numpy()\n",
    "        else:\n",
    "            print(f\"Lengths do not match for {id}\")"
   ]
  },
  {
   "cell_type": "code",
   "execution_count": null,
   "metadata": {},
   "outputs": [],
   "source": [
    "# Process DeepOF =======================================================================================================\n",
    "# Filter specifics\n",
    "for mycolumn, specific in specifics_transmatrix.items():\n",
    "    filtered_targets = target_values[target_values[mycolumn] == specific]\n",
    "\n",
    "ids_group1 = filtered_targets[filtered_targets.group == 'yes']['experiment_id'].tolist()\n",
    "ids_group2 = filtered_targets[filtered_targets.group == 'no']['experiment_id'].tolist()\n",
    "\n",
    "# Filter the data by position in the OF\n",
    "if bodypart and area:\n",
    "    for id in ids_group1 + ids_group2:\n",
    "        if id in deepof.keys():\n",
    "            deepof[id] = deepof[id][deepof[id][f'{bodypart}_{area}'] == True]\n",
    "\n",
    "# Filter by group\n",
    "letter_deepof_group1 = {id: deepof[id] for id in ids_group1 if id in deepof.keys()}\n",
    "letter_deepof_group2 = {id: deepof[id] for id in ids_group2 if id in deepof.keys()}\n",
    "\n",
    "# Compute mean length of the features\n",
    "frames_group1 = [len(table) for table in letter_deepof_group1.values()]\n",
    "frames_group2 = [len(table) for table in letter_deepof_group2.values()]\n",
    "df = pd.DataFrame({'Group': ['yes'] * len(frames_group1) + ['no'] * len(frames_group2), 'Frames': frames_group1 + frames_group2})\n",
    "sns.scatterplot(x='Group', y='Frames', data=df)\n",
    "\n",
    "# Filter by time bin\n",
    "group_features_dicts = {}\n",
    "for group, letter_deepof in zip(groups, [letter_deepof_group1, letter_deepof_group2]):\n",
    "    cut_deepof = {}\n",
    "    for id, table in letter_deepof.items():\n",
    "        if not table.empty:\n",
    "            bin_size = len(table) // num_bins\n",
    "            start_index = bin_num * bin_size + bin_num\n",
    "            end_index = start_index + bin_size\n",
    "            cut_table = table.iloc[start_index:end_index]\n",
    "            cut_deepof[id] = cut_table\n",
    "\n",
    "    dict_features = {}\n",
    "    for category in categories:\n",
    "        averages = [table[category].mean() for table in cut_deepof.values()]\n",
    "        dict_features[category] = averages\n",
    "\n",
    "    group_features_dicts[group] = dict_features"
   ]
  },
  {
   "cell_type": "code",
   "execution_count": null,
   "metadata": {},
   "outputs": [],
   "source": [
    "# Radar plot ==========================================================================================================\n",
    "\n",
    "mean_features_dicts = {}\n",
    "for group, dict_features in group_features_dicts.items():\n",
    "    mean_features_dicts[group] = {\n",
    "        category: np.mean(dict_features[category]) for category in categories\n",
    "    }\n",
    "\n",
    "N = len(categories)\n",
    "angles = [n / float(N) * 2 * pi for n in range(N)]\n",
    "angles += angles[:1]\n",
    "\n",
    "# ------- PART 1: Create background\n",
    "fig, ax = plt.subplots(figsize=(2.5, 2.5), subplot_kw={\"polar\": True})\n",
    "plt.xticks(angles[:-1], categories, color=\"dimgray\", fontsize=10, fontweight=\"bold\")\n",
    "ax.set_theta_offset(pi / 2)\n",
    "ax.set_theta_direction(-1)\n",
    "ax.set_rlabel_position(0)\n",
    "plt.yticks(\n",
    "    [0.25, 0.5, 0.75, 1], [\"0.25\", \"0.5\", \"0.75\", \"\"], color=\"dimgray\", size=8\n",
    ")\n",
    "plt.ylim(0, 1)\n",
    "\n",
    "# ------- PART 2: Add plots\n",
    "polygons = {}\n",
    "for time, letter_features_dict in mean_features_dicts.items():\n",
    "    values = list(letter_features_dict.values())\n",
    "\n",
    "    normalized_values = [\n",
    "        (val - scale[0]) / (scale[1] - scale[0])\n",
    "        for val, scale in zip(values, scales)\n",
    "    ]\n",
    "    polygons[time] = normalized_values\n",
    "    normalized_values += normalized_values[:1]\n",
    "    ax.plot(\n",
    "        angles,\n",
    "        normalized_values,\n",
    "        linewidth=2,\n",
    "        linestyle=\"solid\",\n",
    "        alpha=1,\n",
    "        color=\"dimgray\",\n",
    "    )\n",
    "    ax.fill(angles, normalized_values, color=colors[time], alpha=0.5)\n",
    "\n",
    "# Tidy up the layout\n",
    "plt.tight_layout()\n",
    "plt.show()\n",
    "\n",
    "# Compute IoU\n",
    "iou = compute_iou(polygons)\n",
    "print(iou)"
   ]
  },
  {
   "cell_type": "markdown",
   "metadata": {},
   "source": [
    "# AD/Stress analysis unsupervised"
   ]
  },
  {
   "cell_type": "code",
   "execution_count": null,
   "metadata": {},
   "outputs": [],
   "source": [
    "root = Path('//folder/becell/Lab Projects/Stress_Cort_Adolesc_Llavor/OF analysis/entraining habituation in OF/')\n",
    "directory = root / \"csv_moseq\"\n",
    "\n",
    "# Upload the conditions\n",
    "txt_path = root / \"conditions.csv\"\n",
    "target_values = pd.read_csv(txt_path)\n",
    "\n",
    "# Dual radar plot between WT and APP specifics\n",
    "specifics_transmatrix = {'experiment': 'adol_stress'}\n",
    "groups = ['yes', 'no']\n",
    "bin_num = 0 # Start from 0\n",
    "num_bins = 5"
   ]
  },
  {
   "cell_type": "code",
   "execution_count": null,
   "metadata": {},
   "outputs": [],
   "source": [
    "def create_transition_dict_alzheimer(groups, specifics_transmatrix, directory, num_bins, bin_num, target_values):\n",
    "    transition_dicts = {}\n",
    "    for group in groups:\n",
    "        # Update the specifics\n",
    "        specifics = specifics_transmatrix.copy()\n",
    "        specifics.update({'control': group})\n",
    "\n",
    "        # Filter specifics\n",
    "        syllables_dict = filter_data(specifics, directory, num_bins, bin_num, target_values)\n",
    "        \n",
    "        # Create the transition matrix\n",
    "        transition_dict, states = create_transition_dict(syllables_dict, silence_diagonal=True, normalize=False)\n",
    "        transition_dicts[group] = [transition_dict, states]\n",
    "    \n",
    "    return transition_dicts\n",
    "\n",
    "transition_dicts = create_transition_dict_alzheimer(groups, specifics_transmatrix, directory, num_bins, bin_num, target_values)\n",
    "zscore, p_value = timelapse_behavior_bootstrap(transition_dicts, 'darkgreen')"
   ]
  },
  {
   "cell_type": "code",
   "execution_count": null,
   "metadata": {},
   "outputs": [],
   "source": [
    "colors = {2: 'violet', 3: 'mediumseagreen'}\n",
    "# 2 for downregulated, 3 for upregulated\n",
    "\n",
    "measures_direct = analyze_transition_changes(transition_dicts)\n",
    "timelapse_circular_transition_graph(transition_dicts, colors)"
   ]
  },
  {
   "cell_type": "code",
   "execution_count": null,
   "metadata": {},
   "outputs": [],
   "source": [
    "# Plot zscores over time\n",
    "p_values = []\n",
    "for my_bin_num in range(5):\n",
    "    transition_dicts = create_transition_dict_alzheimer(groups, specifics_transmatrix, directory, num_bins, my_bin_num, target_values)\n",
    "    zscore, p_value = timelapse_behavior_bootstrap(transition_dicts, 'darkgreen')\n",
    "    p_values.append(p_value)\n",
    "\n",
    "plt.plot(p_values)\n",
    "plt.show()"
   ]
  }
 ],
 "metadata": {
  "kernelspec": {
   "display_name": "Python 3",
   "language": "python",
   "name": "python3"
  },
  "language_info": {
   "codemirror_mode": {
    "name": "ipython",
    "version": 3
   },
   "file_extension": ".py",
   "mimetype": "text/x-python",
   "name": "python",
   "nbconvert_exporter": "python",
   "pygments_lexer": "ipython3",
   "version": "3.9.19"
  }
 },
 "nbformat": 4,
 "nbformat_minor": 2
}
